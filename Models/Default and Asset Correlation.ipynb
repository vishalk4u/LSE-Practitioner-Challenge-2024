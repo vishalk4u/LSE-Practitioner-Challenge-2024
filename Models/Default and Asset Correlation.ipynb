{
 "cells": [
  {
   "cell_type": "markdown",
   "metadata": {},
   "source": [
    "# Estimating Default and Asset Correlation with Method of Moments for Latin American Companies from 1997-2020 "
   ]
  },
  {
   "cell_type": "markdown",
   "metadata": {},
   "source": [
    "This Python notebook reproduces the numerical results of Chapter 6, \"Modelling and Estimating Default Correlation with the Asset Value Approach,\" in \"Credit Risk Modeling using Excel and VBA\" by Gunter Loffler and Peter Posch.\n",
    "\n",
    "https://www.wiley.com/en-gb/Credit+Risk+Modeling+using+Excel+and+VBA%2C+2nd+Edition-p-9780470660928.\n",
    "\n",
    "Remarkably, the authors carried out the original work in Excel. However, the person who wrote this script, Domenico Picone, implemented the same algorithms in Python. This is the modified version of that script, which computes default and asset correlations for the Latin American companies from 1997 to 2020."
   ]
  },
  {
   "cell_type": "markdown",
   "metadata": {},
   "source": [
    "There are two main assuptions: 1) All obligors share the same defaut and joint default probabilities as the other obligors in the same Specuative Grade credit group. 2) There is no serial correlation in the time series of defaults, so defaults in any year are not affected by the defaults in a previous year."
   ]
  },
  {
   "cell_type": "code",
   "execution_count": 63,
   "metadata": {},
   "outputs": [],
   "source": [
    "import pandas as pd\n",
    "import numpy  as np\n",
    "\n",
    "from scipy.stats     import norm\n",
    "from scipy.optimize  import root\n",
    "from scipy.integrate import quad\n",
    "from scipy.optimize  import minimize\n",
    "from scipy.special   import comb\n",
    "from scipy.stats     import norm\n",
    "\n",
    "import matplotlib.pyplot as plt\n",
    "%matplotlib inline"
   ]
  },
  {
   "cell_type": "markdown",
   "metadata": {},
   "source": [
    "Let's read our data set, from the book:"
   ]
  },
  {
   "cell_type": "code",
   "execution_count": 64,
   "metadata": {},
   "outputs": [
    {
     "name": "stdout",
     "output_type": "stream",
     "text": [
      "   Year  SpeculativeGradeDefaults  SpeculativeGrade_No\n",
      "0  1997                         0                   67\n",
      "1  1998                         0                  126\n",
      "    Year  SpeculativeGradeDefaults  SpeculativeGrade_No\n",
      "22  2019                         4                  499\n",
      "23  2020                        13                  503\n"
     ]
    }
   ],
   "source": [
    "DefaultData = pd.read_csv ('DefaultHistoryData.csv', index_col=False)\n",
    "print (DefaultData.head(2))\n",
    "print (DefaultData.tail(2))\n",
    "size = len(DefaultData)"
   ]
  },
  {
   "cell_type": "code",
   "execution_count": 65,
   "metadata": {},
   "outputs": [
    {
     "name": "stdout",
     "output_type": "stream",
     "text": [
      "<class 'pandas.core.frame.DataFrame'>\n",
      "RangeIndex: 24 entries, 0 to 23\n",
      "Data columns (total 3 columns):\n",
      " #   Column                    Non-Null Count  Dtype\n",
      "---  ------                    --------------  -----\n",
      " 0   Year                      24 non-null     int64\n",
      " 1   SpeculativeGradeDefaults  24 non-null     int64\n",
      " 2   SpeculativeGrade_No       24 non-null     int64\n",
      "dtypes: int64(3)\n",
      "memory usage: 708.0 bytes\n",
      "None\n"
     ]
    }
   ],
   "source": [
    "print (DefaultData.info())"
   ]
  },
  {
   "cell_type": "markdown",
   "metadata": {},
   "source": [
    "### Methods of Moments"
   ]
  },
  {
   "cell_type": "markdown",
   "metadata": {},
   "source": [
    "#### Default Rate"
   ]
  },
  {
   "cell_type": "markdown",
   "metadata": {},
   "source": [
    "We estimate the average default rate for the Speculative credit categories, $ p_{ig}$ and $p_{spec}$ by averaging their respective annual default rates"
   ]
  },
  {
   "cell_type": "code",
   "execution_count": 66,
   "metadata": {},
   "outputs": [],
   "source": [
    "DefaultData['DefaultRateSpec']   = DefaultData.SpeculativeGradeDefaults/DefaultData.SpeculativeGrade_No"
   ]
  },
  {
   "cell_type": "code",
   "execution_count": 67,
   "metadata": {},
   "outputs": [],
   "source": [
    "AverageDefaultRateSpec = np.mean(DefaultData['DefaultRateSpec'])"
   ]
  },
  {
   "cell_type": "code",
   "execution_count": 68,
   "metadata": {},
   "outputs": [
    {
     "name": "stdout",
     "output_type": "stream",
     "text": [
      "0.02499762141064667\n"
     ]
    }
   ],
   "source": [
    "print(AverageDefaultRateSpec)"
   ]
  },
  {
   "cell_type": "markdown",
   "metadata": {},
   "source": [
    "#### Joint default rate"
   ]
  },
  {
   "cell_type": "markdown",
   "metadata": {},
   "source": [
    "We now estimate the average joint default rates as we previously did for the default rates. \n",
    "\n",
    "We relate the number of observed joint (pair) defaults to the total number of possible joint (pair) defaults as follows."
   ]
  },
  {
   "cell_type": "markdown",
   "metadata": {},
   "source": [
    "Let's indicate with $D_t$ the number of defaults in year $t$ and with $N_t$ the number of exposures at the beginning of year $t$\n",
    "\n",
    "The number of observed joint (pair) defaults is\n",
    "$$ {{D_t}\\choose 2} =  \\frac{D_t(D_t -1)}{2} $$\n",
    "$$ $$\n",
    "The total number of possible joint (pair) defaults is\n",
    "$$ {{N_t}\\choose 2} =  \\frac{N_t(N_t -1)}{2} $$\n",
    "$$ $$\n",
    "The joint default rate for year $t$ is\n",
    "$$ p_{joint, t}=  \\frac{D_t(D_t -1)}{N_t(N_t -1)} $$\n",
    "$$ $$\n",
    "and the average joint default rate for all $t's$ is \n",
    "$$p_{joint} = \\frac{1}{T}\\sum_{t=1}^T p_{joint, t}=\\frac{1}{T}\\sum_{t=1}^T \\frac{D_t(D_t -1)}{N_t(N_t -1)}$$"
   ]
  },
  {
   "cell_type": "code",
   "execution_count": 69,
   "metadata": {},
   "outputs": [],
   "source": [
    "DefaultData['Joint_Def_ProbSpec']   = DefaultData.SpeculativeGradeDefaults *(DefaultData.SpeculativeGradeDefaults - 1) \\\n",
    "/(DefaultData.SpeculativeGrade_No*(DefaultData.SpeculativeGrade_No-1))"
   ]
  },
  {
   "cell_type": "code",
   "execution_count": 70,
   "metadata": {},
   "outputs": [
    {
     "name": "stdout",
     "output_type": "stream",
     "text": [
      "0.002537\n"
     ]
    }
   ],
   "source": [
    "JointDefProbSpec = np.mean(DefaultData['Joint_Def_ProbSpec'])\n",
    "\n",
    "print(np.round(JointDefProbSpec,6))"
   ]
  },
  {
   "cell_type": "markdown",
   "metadata": {},
   "source": [
    "#### Default correlation "
   ]
  },
  {
   "cell_type": "markdown",
   "metadata": {},
   "source": [
    "The default correlation is specified by the individual and joint default probabilities. So using the average default and joint default probabilities, we calculate the default correlation as\n",
    "\n",
    "$$\\rho_{i,j}= \\frac{p_{i,j}-p_ip_j}{\\sqrt{p_i(1-p_j)p_j(1-p_i)}} $$\n",
    "\n",
    "Again, as stated earlier, we assume all obligors in the same category, share the same default and joint default probability "
   ]
  },
  {
   "cell_type": "code",
   "execution_count": 71,
   "metadata": {},
   "outputs": [],
   "source": [
    "DefaultCorrSpec = (JointDefProbSpec - AverageDefaultRateSpec*AverageDefaultRateSpec)\\\n",
    "/(np.sqrt(AverageDefaultRateSpec*(1-AverageDefaultRateSpec)*AverageDefaultRateSpec*(1-AverageDefaultRateSpec)))"
   ]
  },
  {
   "cell_type": "markdown",
   "metadata": {},
   "source": [
    "#### The asset value model"
   ]
  },
  {
   "cell_type": "markdown",
   "metadata": {},
   "source": [
    "Instead of imposing the default correlation structure \"directly\" from the historic default data, more conveniently defaults can represented as function of continuous \"random\" variables and then a joint default structure is imposed on these variables. \n",
    "\n",
    "These variables are often referred as latent variables and are interpreted as the firm's asset value. When the asset value $A_i$ drops below a critical value $d_i$ (called default threshod), default is triggered.\n",
    "\n",
    "The default indicator for the obligor $i$ can be represented as\n",
    "$$Default_i = 1 \\, ,if \\, A_i <= d_i$$\n",
    "\n",
    "whereas the no default indicator is \n",
    "\n",
    "$$No \\, default_i = 0 \\, ,if \\, A_i > d_i$$\n",
    "\n",
    "The joint default probability is instead written as \n",
    "$$Prob(A_i <= d_i \\, , A_j <= d_j)$$"
   ]
  },
  {
   "cell_type": "markdown",
   "metadata": {},
   "source": [
    "Continuing, the asset value $A_i$ depends on the common factor $Z$, which is common to all obligors, on the idiosyncratic factor $\\epsilon_i$ and on the factor sensitivity $w_i$\n",
    "\n",
    "$$A_{i} = w_iZ+\\sqrt{1-w_i^2}\\epsilon_i$$\n",
    "\n",
    "The asset correlation between $i$ and $j$ is completely determined by their factor sensitivities $w_i$ and $w_j$ and simplifies to\n",
    "\n",
    "$$\\rho_{i,j}^{asset}= w_iw_j$$"
   ]
  },
  {
   "cell_type": "markdown",
   "metadata": {},
   "source": [
    "The default probability is given by\n",
    "$$P[A_i<=d_i] = p_i = \\Phi(d_i)$$\n",
    "\n",
    "and the joint default probability is given by\n",
    "$$P[A_i<=d_i,A_j<=d_j ] = p_{i,j} = \\Phi_{2}(d_i, d_j,\\rho_{i,j}^{asset})$$\n",
    "\n",
    "where \n",
    "$\\Phi(d_i)$ is the cumulative standard normal distribution function and\n",
    "$$ $$\n",
    "$\\Phi_{2}(d_i, d_j,\\rho_{i,j}^{asset})$ is the bivariate standard normal distribution function with asset correlation $\\rho_{i,j}^{asset}$ \n"
   ]
  },
  {
   "cell_type": "markdown",
   "metadata": {},
   "source": [
    "Once a credit is allocated to Speculative Grade credit category, it will share the same default rate, joint defaut rate, critical value (or default threshold), default and asset correlation of all the other credits in the same category. It is a big assumption indeed!\n",
    "\n",
    "With those assumptions in mind it is easy to find the asset correlation, $ \\rho_{i,j}^{asset}$, that allows us to match the joint default rate as calculated earlier."
   ]
  },
  {
   "cell_type": "markdown",
   "metadata": {},
   "source": [
    "We introduce the following three functions to parametrize the asset model"
   ]
  },
  {
   "cell_type": "code",
   "execution_count": 72,
   "metadata": {},
   "outputs": [],
   "source": [
    "def tetrachoric(x , y , rho): \n",
    "\n",
    "    FACCURACY = 0.0000000000001\n",
    "    MinStopK  = 20    \n",
    "    hx  = 1\n",
    "    hy  = 1\n",
    "    hx1 = 0\n",
    "    hy1 = 0\n",
    "    k   = 0\n",
    "    c   = rho\n",
    "    z   = c\n",
    "    s   = z\n",
    "    CheckPass = 0\n",
    "\n",
    "    while (CheckPass < MinStopK):\n",
    "        k   = k + 1\n",
    "        hx2 = hx1\n",
    "        hy2 = hy1\n",
    "        hx1 = hx\n",
    "        hy1 = hy\n",
    "        hx  = x * hx1 - (k - 1) * hx2\n",
    "        hy  = y * hy1 - (k - 1) * hy2\n",
    "        c   = c * rho / (k + 1)\n",
    "        z   = hx * hy * c\n",
    "        s   = s + z\n",
    "        if (abs(z / s) < FACCURACY):\n",
    "            CheckPass = CheckPass + 1\n",
    "        else:\n",
    "            CheckPass = 0\n",
    "        \n",
    "    return s\n",
    "\n",
    "def bivnor(x , y , rho):\n",
    "    biv = 0.0\n",
    "    if (rho == 0):\n",
    "        biv = norm.cdf(x) * norm.cdf(y)\n",
    "    else:\n",
    "        biv = norm.cdf(x) * norm.cdf(y) + norm.pdf(x) * norm.pdf(y) * tetrachoric(x, y, rho)\n",
    "    return biv\n",
    "\n",
    "def wrapperRoot(x, y, jointDefault):\n",
    "    def f(rho):\n",
    "        return bivnor(x,y,rho) - jointDefault\n",
    "    return f"
   ]
  },
  {
   "cell_type": "markdown",
   "metadata": {},
   "source": [
    "#### Default Triggers\n",
    "\n",
    "are below"
   ]
  },
  {
   "cell_type": "code",
   "execution_count": 73,
   "metadata": {},
   "outputs": [
    {
     "name": "stdout",
     "output_type": "stream",
     "text": [
      "-1.960004684024761\n"
     ]
    }
   ],
   "source": [
    "x_inverseDRSpec = norm.ppf(AverageDefaultRateSpec, loc=0, scale=1)\n",
    "print(x_inverseDRSpec)"
   ]
  },
  {
   "cell_type": "code",
   "execution_count": 74,
   "metadata": {},
   "outputs": [
    {
     "name": "stdout",
     "output_type": "stream",
     "text": [
      "Joint Default rate for the Spec credit is 0.0025365262886004815\n",
      "Asset Correlation  for the Spec credit is 0.31869546895066586\n"
     ]
    }
   ],
   "source": [
    "# Let's find now the asset correlation which matches the joint default rate for the Spec credit group\n",
    "print(\"Joint Default rate for the Spec credit is\", JointDefProbSpec)\n",
    "ff  = wrapperRoot(x_inverseDRSpec,x_inverseDRSpec,JointDefProbSpec)\n",
    "sol = root(ff,0.05)\n",
    "AssetCorrSpec = sol.x[0]\n",
    "print(\"Asset Correlation  for the Spec credit is\", AssetCorrSpec)"
   ]
  },
  {
   "cell_type": "code",
   "execution_count": 75,
   "metadata": {},
   "outputs": [
    {
     "name": "stdout",
     "output_type": "stream",
     "text": [
      "0.0025365262886004815\n",
      "0.0025365262886004815\n"
     ]
    }
   ],
   "source": [
    "# so assuming an asset correlation of 0.319, the joint default probability is the same as above\n",
    "print(bivnor(x_inverseDRSpec,x_inverseDRSpec,0.31869546895066586))\n",
    "print(JointDefProbSpec)"
   ]
  },
  {
   "cell_type": "markdown",
   "metadata": {},
   "source": [
    "Let' print the moments so far calcuated, which we remind were estimated directly on the historic default data"
   ]
  },
  {
   "cell_type": "code",
   "execution_count": 76,
   "metadata": {},
   "outputs": [
    {
     "name": "stdout",
     "output_type": "stream",
     "text": [
      "Credit Type      Default Prob       Joint Default Prob       Default Correlation\n",
      "Speculative        0.0250            0.00253653                   0.078434\n"
     ]
    }
   ],
   "source": [
    "print(\"{0:16} {1:18} {2:24} {3:8}\".format(\"Credit Type\", \"Default Prob\", \"Joint Default Prob\", \"Default Correlation\"))\n",
    "\n",
    "print('{0} {1:13.4f} {2:21.8f} {3:26.5}'.format (\"Speculative\",AverageDefaultRateSpec, JointDefProbSpec, DefaultCorrSpec))"
   ]
  },
  {
   "cell_type": "markdown",
   "metadata": {},
   "source": [
    "Whereas when using an asset model to describe a default, the moments are below"
   ]
  },
  {
   "cell_type": "code",
   "execution_count": 77,
   "metadata": {},
   "outputs": [
    {
     "name": "stdout",
     "output_type": "stream",
     "text": [
      "Credit Type      Default Threshold    Joint Default Prob     Asset Correlation\n",
      "Speculative       -1.9600                 0.00253653                0.3187\n"
     ]
    }
   ],
   "source": [
    "print(\"{0:16} {1:20} {2:22} {3:8}\".format(\"Credit Type\", \"Default Threshold\", \"Joint Default Prob\", \"Asset Correlation\"))\n",
    "\n",
    "print('{0} {1:13.4f} {2:26.8f} {3:21.5}'.format (\"Speculative\",x_inverseDRSpec, JointDefProbSpec, AssetCorrSpec))"
   ]
  }
 ],
 "metadata": {
  "kernelspec": {
   "display_name": "Python 3 (ipykernel)",
   "language": "python",
   "name": "python3"
  },
  "language_info": {
   "codemirror_mode": {
    "name": "ipython",
    "version": 3
   },
   "file_extension": ".py",
   "mimetype": "text/x-python",
   "name": "python",
   "nbconvert_exporter": "python",
   "pygments_lexer": "ipython3",
   "version": "3.11.5"
  }
 },
 "nbformat": 4,
 "nbformat_minor": 4
}
